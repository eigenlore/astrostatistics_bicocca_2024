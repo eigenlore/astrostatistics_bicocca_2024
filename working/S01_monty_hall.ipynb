{
 "cells": [
  {
   "cell_type": "markdown",
   "metadata": {},
   "source": [
    "Monty Hall"
   ]
  },
  {
   "cell_type": "code",
   "execution_count": 46,
   "metadata": {},
   "outputs": [],
   "source": [
    "from numpy.random import randint, choice\n",
    "from numpy import delete, arange\n",
    "import matplotlib.pyplot as plt"
   ]
  },
  {
   "cell_type": "code",
   "execution_count": 28,
   "metadata": {},
   "outputs": [
    {
     "name": "stdout",
     "output_type": "stream",
     "text": [
      "Switcher won 66.66056% of the times\n",
      "Conservative won 33.339439999999996% of the times\n",
      "Newcomer won 50.017089999999996% of the times\n"
     ]
    }
   ],
   "source": [
    "N=10000000\n",
    "switcher_wins=0\n",
    "conservative_wins=0\n",
    "newcomer_wins=0\n",
    "\n",
    "for _ in range(N):\n",
    "\n",
    "    initial_door_choice=randint(0,3)\n",
    "    open_door=randint(1,3)\n",
    "    while open_door == initial_door_choice:\n",
    "        open_door=randint(1,3)\n",
    "\n",
    "    new_door_choice=randint(0,3)  \n",
    "    while new_door_choice==open_door or new_door_choice==initial_door_choice:\n",
    "        new_door_choice=randint(0,3)  \n",
    "\n",
    "    newcomer_door_choice=randint(0,3)\n",
    "    while newcomer_door_choice==open_door:\n",
    "        newcomer_door_choice=randint(0,3)\n",
    "\n",
    "    if new_door_choice==0:\n",
    "        switcher_wins=switcher_wins+1\n",
    "    \n",
    "    if initial_door_choice==0:\n",
    "        conservative_wins=conservative_wins+1\n",
    "    \n",
    "    if newcomer_door_choice==0:\n",
    "        newcomer_wins=newcomer_wins+1\n",
    "        \n",
    "\n",
    "print(f'Switcher won {switcher_wins/N*100}% of the times')\n",
    "print(f'Conservative won {conservative_wins/N*100}% of the times')\n",
    "print(f'Newcomer won {newcomer_wins/N*100}% of the times')\n",
    "    "
   ]
  },
  {
   "cell_type": "code",
   "execution_count": 43,
   "metadata": {},
   "outputs": [],
   "source": [
    "def monty_hall(N=3, M=1, N_trial=100000):\n",
    "\n",
    "    if N-2<M:\n",
    "        raise(ValueError)\n",
    "    \n",
    "    switcher_wins=0\n",
    "    conservative_wins=0\n",
    "    newcomer_wins=0\n",
    "\n",
    "    for _ in range(N_trial):\n",
    "\n",
    "        initial_door_choice=randint(0,N)\n",
    "        open_doors=choice(delete(arange(0,N), [initial_door_choice, 0]), size=M, replace=False) #choose M number without repetition between 1 and N, excluding the initial door choice\n",
    "        \n",
    "        new_door_choice= choice(delete(arange(0,N), open_doors))\n",
    "        while new_door_choice==initial_door_choice:\n",
    "            new_door_choice= choice(delete(arange(0,N), open_doors))\n",
    "              \n",
    "        newcomer_door_choice=choice(delete(arange(0,N), open_doors))\n",
    "\n",
    "        if new_door_choice==0:\n",
    "            switcher_wins=switcher_wins+1\n",
    "        \n",
    "        if initial_door_choice==0:\n",
    "            conservative_wins=conservative_wins+1\n",
    "        \n",
    "        if newcomer_door_choice==0:\n",
    "            newcomer_wins=newcomer_wins+1\n",
    "            \n",
    "        \n",
    "    return switcher_wins/N_trial*100, conservative_wins/N_trial*100, newcomer_wins/N_trial*100\n",
    "\n",
    "        "
   ]
  },
  {
   "cell_type": "code",
   "execution_count": 45,
   "metadata": {},
   "outputs": [
    {
     "name": "stdout",
     "output_type": "stream",
     "text": [
      "Processing M=1\n",
      "Processing M=2\n",
      "Processing M=3\n",
      "Processing M=4\n",
      "Processing M=5\n",
      "Processing M=6\n",
      "Processing M=7\n",
      "Processing M=8\n",
      "Processing M=9\n",
      "Processing M=10\n",
      "Processing M=11\n",
      "Processing M=12\n",
      "Processing M=13\n",
      "Processing M=14\n",
      "Processing M=15\n",
      "Processing M=16\n",
      "Processing M=17\n",
      "Processing M=18\n",
      "Processing M=19\n",
      "Processing M=20\n",
      "Processing M=21\n",
      "Processing M=22\n",
      "Processing M=23\n",
      "Processing M=24\n",
      "Processing M=25\n",
      "Processing M=26\n",
      "Processing M=27\n",
      "Processing M=28\n",
      "Processing M=29\n",
      "Processing M=30\n",
      "Processing M=31\n",
      "Processing M=32\n",
      "Processing M=33\n",
      "Processing M=34\n",
      "Processing M=35\n",
      "Processing M=36\n",
      "Processing M=37\n",
      "Processing M=38\n",
      "Processing M=39\n",
      "Processing M=40\n",
      "Processing M=41\n",
      "Processing M=42\n",
      "Processing M=43\n",
      "Processing M=44\n",
      "Processing M=45\n",
      "Processing M=46\n",
      "Processing M=47\n",
      "Processing M=48\n",
      "Processing M=49\n",
      "Processing M=50\n",
      "Processing M=51\n",
      "Processing M=52\n",
      "Processing M=53\n",
      "Processing M=54\n",
      "Processing M=55\n",
      "Processing M=56\n",
      "Processing M=57\n",
      "Processing M=58\n",
      "Processing M=59\n",
      "Processing M=60\n",
      "Processing M=61\n",
      "Processing M=62\n",
      "Processing M=63\n",
      "Processing M=64\n",
      "Processing M=65\n",
      "Processing M=66\n",
      "Processing M=67\n",
      "Processing M=68\n",
      "Processing M=69\n",
      "Processing M=70\n",
      "Processing M=71\n",
      "Processing M=72\n",
      "Processing M=73\n",
      "Processing M=74\n",
      "Processing M=75\n",
      "Processing M=76\n",
      "Processing M=77\n",
      "Processing M=78\n",
      "Processing M=79\n",
      "Processing M=80\n",
      "Processing M=81\n",
      "Processing M=82\n",
      "Processing M=83\n",
      "Processing M=84\n",
      "Processing M=85\n",
      "Processing M=86\n",
      "Processing M=87\n",
      "Processing M=88\n",
      "Processing M=89\n",
      "Processing M=90\n",
      "Processing M=91\n",
      "Processing M=92\n",
      "Processing M=93\n",
      "Processing M=94\n",
      "Processing M=95\n",
      "Processing M=96\n",
      "Processing M=97\n",
      "Processing M=98\n"
     ]
    }
   ],
   "source": [
    "N=100\n",
    "prob_conservative=[]\n",
    "prob_switcher=[]\n",
    "\n",
    "for M in range(1, N-1):\n",
    "    print(f'Processing M={M}')\n",
    "    p1, p2, _=monty_hall(N=N, M=M, N_trial=10000)\n",
    "    prob_switcher.append(p1)\n",
    "    prob_conservative.append(p2)\n"
   ]
  },
  {
   "cell_type": "code",
   "execution_count": 50,
   "metadata": {},
   "outputs": [
    {
     "data": {
      "image/png": "[encoded data removed]",
      "text/plain": [
       "<Figure size 640x480 with 1 Axes>"
      ]
     },
     "metadata": {},
     "output_type": "display_data"
    }
   ],
   "source": [
    "plt.plot(prob_switcher, label='Switcher')\n",
    "plt.plot(prob_conservative, label='Conservative')\n",
    "plt.title('100 doors')\n",
    "plt.xlabel('Open doors')\n",
    "plt.ylabel('Probability of winning')\n",
    "plt.legend()\n",
    "plt.show()"
   ]
  }
 ],
 "metadata": {
  "kernelspec": {
   "display_name": "astrostatistics",
   "language": "python",
   "name": "python3"
  },
  "language_info": {
   "codemirror_mode": {
    "name": "ipython",
    "version": 3
   },
   "file_extension": ".py",
   "mimetype": "text/x-python",
   "name": "python",
   "nbconvert_exporter": "python",
   "pygments_lexer": "ipython3",
   "version": "3.10.13"
  }
 },
 "nbformat": 4,
 "nbformat_minor": 2
}
